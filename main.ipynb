{
 "cells": [
  {
   "cell_type": "code",
   "execution_count": 1,
   "id": "8377f641",
   "metadata": {},
   "outputs": [],
   "source": [
    "import torch\n",
    "from torch import nn\n",
    "import torchvision\n",
    "import matplotlib.pyplot as plt\n",
    "from torch.utils.data import DataLoader\n",
    "from torchvision import datasets\n",
    "import torchvision.transforms as T"
   ]
  },
  {
   "cell_type": "code",
   "execution_count": null,
   "id": "28972655",
   "metadata": {},
   "outputs": [],
   "source": [
    "DEVICE = torch.device('cuda' if torch.cuda.is_available() else 'cpu')\n",
    "BATCH_SIZE = 64\n",
    "EPOCHS = 30\n",
    "TRANSFORMS = T.Compose([\n",
    "        T.ToTensor(),\n",
    "        T.Normalize((0.5,), (0.5,))\n",
    "]) # mean/std for grayscales"
   ]
  },
  {
   "cell_type": "code",
   "execution_count": 43,
   "id": "7787d9a0",
   "metadata": {},
   "outputs": [],
   "source": [
    "train_data = datasets.FashionMNIST(\n",
    "    root = 'data',\n",
    "    train = True,\n",
    "    download = True,\n",
    "    transform = TRANSFORMS,\n",
    ")\n",
    "test_data = datasets.FashionMNIST(\n",
    "    root = 'data',\n",
    "    train = False,\n",
    "    download = True,\n",
    "    transform = TRANSFORMS) # mean/std for grayscale"
   ]
  },
  {
   "cell_type": "code",
   "execution_count": 44,
   "id": "dfb2c7cf",
   "metadata": {},
   "outputs": [],
   "source": [
    "train_loader = DataLoader(train_data, batch_size = BATCH_SIZE, shuffle = True)\n",
    "test_loader = DataLoader(test_data, batch_size = BATCH_SIZE, shuffle = False)"
   ]
  },
  {
   "cell_type": "code",
   "execution_count": 45,
   "id": "9cee92eb",
   "metadata": {},
   "outputs": [
    {
     "name": "stdout",
     "output_type": "stream",
     "text": [
      "Batch size is 64 \n",
      " Number of colors is 1 \n",
      " Height: 28, Weight: 28\n"
     ]
    }
   ],
   "source": [
    "for X, y in train_loader:\n",
    "    print(f'Batch size is {X.shape[0]} \\n Number of colors is {X.shape[1]} \\n Height: {X.shape[2]}, Weight: {X.shape[3]}')\n",
    "    break"
   ]
  },
  {
   "cell_type": "code",
   "execution_count": 46,
   "id": "ddba86b6",
   "metadata": {},
   "outputs": [],
   "source": [
    "class MnistModel(nn.Module):\n",
    "    def __init__(self):\n",
    "        super().__init__()\n",
    "        self.flatten = nn.Flatten()\n",
    "        self.linear_relu_stack = nn.Sequential(\n",
    "            nn.Linear(28*28, 512),\n",
    "            nn.ReLU(),\n",
    "            nn.Linear(512, 512),\n",
    "            nn.ReLU(),\n",
    "            nn.Linear(512, 10),\n",
    "        )\n",
    "\n",
    "    def forward(self, x):\n",
    "        x = self.flatten(x)\n",
    "        logits = self.linear_relu_stack(x)\n",
    "        return logits"
   ]
  },
  {
   "cell_type": "code",
   "execution_count": 47,
   "id": "c63f299e",
   "metadata": {},
   "outputs": [
    {
     "data": {
      "text/plain": [
       "MnistModel(\n",
       "  (flatten): Flatten(start_dim=1, end_dim=-1)\n",
       "  (linear_relu_stack): Sequential(\n",
       "    (0): Linear(in_features=784, out_features=512, bias=True)\n",
       "    (1): ReLU()\n",
       "    (2): Linear(in_features=512, out_features=512, bias=True)\n",
       "    (3): ReLU()\n",
       "    (4): Linear(in_features=512, out_features=10, bias=True)\n",
       "  )\n",
       ")"
      ]
     },
     "execution_count": 47,
     "metadata": {},
     "output_type": "execute_result"
    }
   ],
   "source": [
    "model = MnistModel().to(DEVICE)\n",
    "model"
   ]
  },
  {
   "cell_type": "code",
   "execution_count": 48,
   "id": "6612277d",
   "metadata": {},
   "outputs": [],
   "source": [
    "loss_fn = nn.CrossEntropyLoss()\n",
    "optimizer = torch.optim.Adam(model.parameters(), lr = 0.001) # weights optimized after loss calc"
   ]
  },
  {
   "cell_type": "code",
   "execution_count": 49,
   "id": "f8254f71",
   "metadata": {},
   "outputs": [],
   "source": [
    "train_losses = []\n",
    "def train(dataloader, model, loss_fn, optimizer):\n",
    "    total_loss = 0\n",
    "    model.train()\n",
    "    for X, y in dataloader:\n",
    "        X, y = X.to(DEVICE), y.to(DEVICE)\n",
    "\n",
    "        pred = model(X)\n",
    "        loss = loss_fn(pred, y)\n",
    "        total_loss += loss.item()\n",
    "\n",
    "\n",
    "        loss.backward()\n",
    "        optimizer.step()\n",
    "        optimizer.zero_grad()\n",
    "        \n",
    "    avg_loss = total_loss / len(dataloader)\n",
    "    train_losses.append(avg_loss)\n",
    "    print(f'Average Loss: {avg_loss:>0.2f}')"
   ]
  },
  {
   "cell_type": "code",
   "execution_count": 50,
   "id": "84640cef",
   "metadata": {},
   "outputs": [],
   "source": [
    "def test(dataloader, model, loss_fn):\n",
    "    size = len(dataloader.dataset)\n",
    "    num_batches = len(dataloader)\n",
    "    model.eval()\n",
    "    test_loss, correct = 0, 0\n",
    "    with torch.no_grad():\n",
    "        for X, y in dataloader:\n",
    "            X, y = X.to(DEVICE), y.to(DEVICE)\n",
    "\n",
    "            pred = model(X)\n",
    "            test_loss += loss_fn(pred, y).item() # item() - get num from tensor\n",
    "            correct += (pred.argmax(1) == y).type(torch.float).sum().item() # pred.argmax(1) - max predicted for class and boolean compare to y\n",
    "\n",
    "    test_loss /= num_batches # avg\n",
    "    correct /= size # avg\n",
    "\n",
    "    print(f'Test Accuracy: {(correct * 100):>0.2f}%, Avg Loss: {test_loss:>0.2f}')"
   ]
  },
  {
   "cell_type": "code",
   "execution_count": 51,
   "id": "842b93b6",
   "metadata": {},
   "outputs": [
    {
     "name": "stdout",
     "output_type": "stream",
     "text": [
      "Epoch 1\n",
      "Average Loss: 0.48\n",
      "Test Accuracy: 85.67%, Avg Loss: 0.40\n",
      "Epoch 2\n",
      "Average Loss: 0.36\n",
      "Test Accuracy: 86.42%, Avg Loss: 0.37\n",
      "Epoch 3\n",
      "Average Loss: 0.33\n",
      "Test Accuracy: 86.02%, Avg Loss: 0.38\n",
      "Epoch 4\n",
      "Average Loss: 0.30\n",
      "Test Accuracy: 86.94%, Avg Loss: 0.35\n",
      "Epoch 5\n",
      "Average Loss: 0.28\n",
      "Test Accuracy: 86.97%, Avg Loss: 0.36\n",
      "Epoch 6\n",
      "Average Loss: 0.26\n",
      "Test Accuracy: 88.12%, Avg Loss: 0.34\n",
      "Epoch 7\n",
      "Average Loss: 0.25\n",
      "Test Accuracy: 87.62%, Avg Loss: 0.34\n",
      "Epoch 8\n",
      "Average Loss: 0.23\n",
      "Test Accuracy: 88.70%, Avg Loss: 0.33\n",
      "Epoch 9\n",
      "Average Loss: 0.22\n",
      "Test Accuracy: 87.90%, Avg Loss: 0.35\n",
      "Epoch 10\n",
      "Average Loss: 0.21\n",
      "Test Accuracy: 87.86%, Avg Loss: 0.37\n",
      "Epoch 11\n",
      "Average Loss: 0.20\n",
      "Test Accuracy: 87.85%, Avg Loss: 0.37\n",
      "Epoch 12\n",
      "Average Loss: 0.19\n",
      "Test Accuracy: 87.94%, Avg Loss: 0.38\n",
      "Epoch 13\n",
      "Average Loss: 0.18\n",
      "Test Accuracy: 88.89%, Avg Loss: 0.35\n",
      "Epoch 14\n",
      "Average Loss: 0.17\n",
      "Test Accuracy: 88.55%, Avg Loss: 0.37\n",
      "Epoch 15\n",
      "Average Loss: 0.16\n",
      "Test Accuracy: 88.72%, Avg Loss: 0.38\n",
      "Epoch 16\n",
      "Average Loss: 0.15\n",
      "Test Accuracy: 88.44%, Avg Loss: 0.42\n",
      "Epoch 17\n",
      "Average Loss: 0.14\n",
      "Test Accuracy: 88.59%, Avg Loss: 0.44\n",
      "Epoch 18\n",
      "Average Loss: 0.14\n",
      "Test Accuracy: 89.04%, Avg Loss: 0.41\n",
      "Epoch 19\n",
      "Average Loss: 0.13\n",
      "Test Accuracy: 88.66%, Avg Loss: 0.46\n",
      "Epoch 20\n",
      "Average Loss: 0.12\n",
      "Test Accuracy: 88.70%, Avg Loss: 0.46\n",
      "Epoch 21\n",
      "Average Loss: 0.12\n",
      "Test Accuracy: 88.77%, Avg Loss: 0.44\n",
      "Epoch 22\n",
      "Average Loss: 0.11\n",
      "Test Accuracy: 89.00%, Avg Loss: 0.46\n",
      "Epoch 23\n",
      "Average Loss: 0.11\n",
      "Test Accuracy: 88.30%, Avg Loss: 0.51\n",
      "Epoch 24\n",
      "Average Loss: 0.10\n",
      "Test Accuracy: 88.75%, Avg Loss: 0.47\n",
      "Epoch 25\n",
      "Average Loss: 0.10\n",
      "Test Accuracy: 88.91%, Avg Loss: 0.49\n",
      "Epoch 26\n",
      "Average Loss: 0.09\n",
      "Test Accuracy: 88.37%, Avg Loss: 0.54\n",
      "Epoch 27\n",
      "Average Loss: 0.09\n",
      "Test Accuracy: 88.42%, Avg Loss: 0.58\n",
      "Epoch 28\n",
      "Average Loss: 0.09\n",
      "Test Accuracy: 88.98%, Avg Loss: 0.59\n",
      "Epoch 29\n",
      "Average Loss: 0.08\n",
      "Test Accuracy: 88.43%, Avg Loss: 0.55\n",
      "Epoch 30\n",
      "Average Loss: 0.08\n",
      "Test Accuracy: 88.91%, Avg Loss: 0.57\n"
     ]
    }
   ],
   "source": [
    "for e in range(EPOCHS):\n",
    "    print(f'Epoch {e+1}')\n",
    "    train(dataloader = train_loader, model = model, loss_fn = loss_fn, optimizer = optimizer)\n",
    "    test(dataloader = test_loader, model = model, loss_fn = loss_fn)"
   ]
  },
  {
   "cell_type": "code",
   "execution_count": 58,
   "id": "13e59bc4",
   "metadata": {},
   "outputs": [],
   "source": [
    "torch.save(model.state_dict(), '30_epochs.pth')"
   ]
  },
  {
   "cell_type": "code",
   "execution_count": 59,
   "id": "7a8161b7",
   "metadata": {},
   "outputs": [
    {
     "data": {
      "text/plain": [
       "<All keys matched successfully>"
      ]
     },
     "execution_count": 59,
     "metadata": {},
     "output_type": "execute_result"
    }
   ],
   "source": [
    "model.load_state_dict(torch.load('30_epochs.pth', weights_only = True))"
   ]
  },
  {
   "cell_type": "code",
   "execution_count": 60,
   "id": "8127fc74",
   "metadata": {},
   "outputs": [],
   "source": [
    "classes = [\n",
    "    \"T-shirt/top\",\n",
    "    \"Trouser\",\n",
    "    \"Pullover\",\n",
    "    \"Dress\",\n",
    "    \"Coat\",\n",
    "    \"Sandal\",\n",
    "    \"Shirt\",\n",
    "    \"Sneaker\",\n",
    "    \"Bag\",\n",
    "    \"Ankle boot\",\n",
    "]"
   ]
  },
  {
   "cell_type": "code",
   "execution_count": 61,
   "id": "e0a12a02",
   "metadata": {},
   "outputs": [
    {
     "name": "stdout",
     "output_type": "stream",
     "text": [
      "Predicted: Ankle boot, Actual: Ankle boot\n"
     ]
    }
   ],
   "source": [
    "model.eval()\n",
    "X, y = test_data[0]\n",
    "with torch.no_grad():\n",
    "    X = X.unsqueeze(0).to(DEVICE)\n",
    "    pred = model(X)\n",
    "    predicted = classes[pred[0].argmax().item()]\n",
    "    actual = classes[y]\n",
    "    print(f'Predicted: {predicted}, Actual: {actual}')"
   ]
  },
  {
   "cell_type": "code",
   "execution_count": 62,
   "id": "e01a989d",
   "metadata": {},
   "outputs": [
    {
     "data": {
      "image/png": "[encoded data removed]",
      "text/plain": [
       "<Figure size 640x480 with 1 Axes>"
      ]
     },
     "metadata": {},
     "output_type": "display_data"
    }
   ],
   "source": [
    "plt.imshow(X.squeeze(), cmap='gray') # squeeze from [1, 28, 28] to shape 28*28 \n",
    "plt.title(f'Predicted: {predicted} | Actual: {actual} ')\n",
    "plt.axis('off')\n",
    "plt.show()"
   ]
  },
  {
   "cell_type": "code",
   "execution_count": 63,
   "id": "f0266e69",
   "metadata": {},
   "outputs": [
    {
     "data": {
      "image/png": "[encoded data removed]",
      "text/plain": [
       "<Figure size 640x480 with 1 Axes>"
      ]
     },
     "metadata": {},
     "output_type": "display_data"
    }
   ],
   "source": [
    "epochs = range(1, EPOCHS + 1)\n",
    "plt.plot(epochs, train_losses, marker='o', color='r')\n",
    "plt.title(\"Train Loss per Epoch\")\n",
    "plt.xlabel(\"Epoch\")\n",
    "plt.xticks(epochs)\n",
    "plt.ylabel(\"Loss\")\n",
    "plt.show()"
   ]
  }
 ],
 "metadata": {
  "kernelspec": {
   "display_name": "mediapipe-env",
   "language": "python",
   "name": "python3"
  },
  "language_info": {
   "codemirror_mode": {
    "name": "ipython",
    "version": 3
   },
   "file_extension": ".py",
   "mimetype": "text/x-python",
   "name": "python",
   "nbconvert_exporter": "python",
   "pygments_lexer": "ipython3",
   "version": "3.9.21"
  }
 },
 "nbformat": 4,
 "nbformat_minor": 5
}
